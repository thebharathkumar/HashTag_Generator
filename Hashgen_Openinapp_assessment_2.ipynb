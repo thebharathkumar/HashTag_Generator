{
  "nbformat": 4,
  "nbformat_minor": 0,
  "metadata": {
    "colab": {
      "provenance": [],
      "gpuType": "T4"
    },
    "kernelspec": {
      "name": "python3",
      "display_name": "Python 3"
    },
    "language_info": {
      "name": "python"
    },
    "accelerator": "GPU",
    "gpuClass": "standard"
  },
  "cells": [
    {
      "cell_type": "code",
      "source": [
        "from logging import error\n",
        "import io\n",
        "from google.colab import files\n",
        "import tensorflow as flow\n",
        "from tensorflow.keras.preprocessing import image as keraas\n",
        "from tensorflow.keras.applications.mobilenet_v2 import MobileNetV2, preprocess_input\n",
        "from PIL import Image\n",
        "model = MobileNetV2(weights='imagenet')\n",
        "uploaded_file = files.upload()\n",
        "image = Image.open(io.BytesIO(uploaded_file[list(uploaded_file.keys())[0]]))\n",
        "image = image.resize((224, 224))\n",
        "if image.mode == 'RGBA':\n",
        "    image = image.convert('RGB')\n",
        "image_array = keraas.img_to_array(image)\n",
        "image_array = preprocess_input(image_array)\n",
        "image_array = flow.expand_dims(image_array, 0)\n",
        "prediction = model.predict(image_array)\n",
        "labels = flow.keras.applications.imagenet_utils.decode_predictions(prediction, top=10)[0]\n",
        "x = [label[1] for label in labels]\n",
        "print('Well the hashtags you can use are')\n",
        "print(x)"
      ],
      "metadata": {
        "id": "pd_EEbFmWIBL"
      },
      "execution_count": null,
      "outputs": []
    }
  ]
}